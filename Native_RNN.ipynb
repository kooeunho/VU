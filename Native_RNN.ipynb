{
 "cells": [
  {
   "cell_type": "code",
   "execution_count": 1,
   "metadata": {},
   "outputs": [
    {
     "name": "stderr",
     "output_type": "stream",
     "text": [
      "/home/kooeunho/.local/lib/python3.6/site-packages/tensorflow/python/framework/dtypes.py:516: FutureWarning: Passing (type, 1) or '1type' as a synonym of type is deprecated; in a future version of numpy, it will be understood as (type, (1,)) / '(1,)type'.\n",
      "  _np_qint8 = np.dtype([(\"qint8\", np.int8, 1)])\n",
      "/home/kooeunho/.local/lib/python3.6/site-packages/tensorflow/python/framework/dtypes.py:517: FutureWarning: Passing (type, 1) or '1type' as a synonym of type is deprecated; in a future version of numpy, it will be understood as (type, (1,)) / '(1,)type'.\n",
      "  _np_quint8 = np.dtype([(\"quint8\", np.uint8, 1)])\n",
      "/home/kooeunho/.local/lib/python3.6/site-packages/tensorflow/python/framework/dtypes.py:518: FutureWarning: Passing (type, 1) or '1type' as a synonym of type is deprecated; in a future version of numpy, it will be understood as (type, (1,)) / '(1,)type'.\n",
      "  _np_qint16 = np.dtype([(\"qint16\", np.int16, 1)])\n",
      "/home/kooeunho/.local/lib/python3.6/site-packages/tensorflow/python/framework/dtypes.py:519: FutureWarning: Passing (type, 1) or '1type' as a synonym of type is deprecated; in a future version of numpy, it will be understood as (type, (1,)) / '(1,)type'.\n",
      "  _np_quint16 = np.dtype([(\"quint16\", np.uint16, 1)])\n",
      "/home/kooeunho/.local/lib/python3.6/site-packages/tensorflow/python/framework/dtypes.py:520: FutureWarning: Passing (type, 1) or '1type' as a synonym of type is deprecated; in a future version of numpy, it will be understood as (type, (1,)) / '(1,)type'.\n",
      "  _np_qint32 = np.dtype([(\"qint32\", np.int32, 1)])\n",
      "/home/kooeunho/.local/lib/python3.6/site-packages/tensorflow/python/framework/dtypes.py:525: FutureWarning: Passing (type, 1) or '1type' as a synonym of type is deprecated; in a future version of numpy, it will be understood as (type, (1,)) / '(1,)type'.\n",
      "  np_resource = np.dtype([(\"resource\", np.ubyte, 1)])\n",
      "/home/kooeunho/.local/lib/python3.6/site-packages/tensorboard/compat/tensorflow_stub/dtypes.py:541: FutureWarning: Passing (type, 1) or '1type' as a synonym of type is deprecated; in a future version of numpy, it will be understood as (type, (1,)) / '(1,)type'.\n",
      "  _np_qint8 = np.dtype([(\"qint8\", np.int8, 1)])\n",
      "/home/kooeunho/.local/lib/python3.6/site-packages/tensorboard/compat/tensorflow_stub/dtypes.py:542: FutureWarning: Passing (type, 1) or '1type' as a synonym of type is deprecated; in a future version of numpy, it will be understood as (type, (1,)) / '(1,)type'.\n",
      "  _np_quint8 = np.dtype([(\"quint8\", np.uint8, 1)])\n",
      "/home/kooeunho/.local/lib/python3.6/site-packages/tensorboard/compat/tensorflow_stub/dtypes.py:543: FutureWarning: Passing (type, 1) or '1type' as a synonym of type is deprecated; in a future version of numpy, it will be understood as (type, (1,)) / '(1,)type'.\n",
      "  _np_qint16 = np.dtype([(\"qint16\", np.int16, 1)])\n",
      "/home/kooeunho/.local/lib/python3.6/site-packages/tensorboard/compat/tensorflow_stub/dtypes.py:544: FutureWarning: Passing (type, 1) or '1type' as a synonym of type is deprecated; in a future version of numpy, it will be understood as (type, (1,)) / '(1,)type'.\n",
      "  _np_quint16 = np.dtype([(\"quint16\", np.uint16, 1)])\n",
      "/home/kooeunho/.local/lib/python3.6/site-packages/tensorboard/compat/tensorflow_stub/dtypes.py:545: FutureWarning: Passing (type, 1) or '1type' as a synonym of type is deprecated; in a future version of numpy, it will be understood as (type, (1,)) / '(1,)type'.\n",
      "  _np_qint32 = np.dtype([(\"qint32\", np.int32, 1)])\n",
      "/home/kooeunho/.local/lib/python3.6/site-packages/tensorboard/compat/tensorflow_stub/dtypes.py:550: FutureWarning: Passing (type, 1) or '1type' as a synonym of type is deprecated; in a future version of numpy, it will be understood as (type, (1,)) / '(1,)type'.\n",
      "  np_resource = np.dtype([(\"resource\", np.ubyte, 1)])\n"
     ]
    },
    {
     "name": "stdout",
     "output_type": "stream",
     "text": [
      "(3145, 16)\n"
     ]
    }
   ],
   "source": [
    "import time\n",
    "import numpy as np\n",
    "import pylab as pl\n",
    "import tensorflow as tf\n",
    "import function as fn\n",
    "%matplotlib inline\n",
    "import os\n",
    "#os.environ[\"CUDA_VISIBLE_DEVICES\"] = '' # AMD Ryzen Threadripper 2990WX 32-Core (CPU)\n",
    "#os.environ[\"CUDA_VISIBLE_DEVICES\"] = '0' # NVIDIA TITAN V (GPU)\n",
    "\n",
    "os.environ[\"CUDA_VISIBLE_DEVICES\"] = '1' # NVIDIA TITAN RTX (GPU)\n",
    "config = tf.ConfigProto()\n",
    "config.gpu_options.allow_growth = True\n",
    "session = tf.Session( config=config )\n",
    "\n",
    "data = np.loadtxt('../vol.txt')[:,1:]\n",
    "Maximum, Minimum = np.max(data[:,-1]), np.min(data[:,-1])\n",
    "print(data.shape)"
   ]
  },
  {
   "cell_type": "code",
   "execution_count": 2,
   "metadata": {},
   "outputs": [
    {
     "name": "stdout",
     "output_type": "stream",
     "text": [
      "0\n",
      "WARNING:tensorflow:From /pub/home/kooeunho/GeonWoo/Rate_of_Return/Experiment5_1116/function.py:238: The name tf.reset_default_graph is deprecated. Please use tf.compat.v1.reset_default_graph instead.\n",
      "\n",
      "WARNING:tensorflow:From /pub/home/kooeunho/GeonWoo/Rate_of_Return/Experiment5_1116/function.py:248: The name tf.placeholder is deprecated. Please use tf.compat.v1.placeholder instead.\n",
      "\n",
      "WARNING:tensorflow:From /pub/home/kooeunho/GeonWoo/Rate_of_Return/Experiment5_1116/function.py:251: The name tf.random_uniform is deprecated. Please use tf.random.uniform instead.\n",
      "\n",
      "WARNING:tensorflow:From /pub/home/kooeunho/GeonWoo/Rate_of_Return/Experiment5_1116/function.py:268: The name tf.train.AdamOptimizer is deprecated. Please use tf.compat.v1.train.AdamOptimizer instead.\n",
      "\n",
      "WARNING:tensorflow:From /pub/home/kooeunho/GeonWoo/Rate_of_Return/Experiment5_1116/function.py:273: The name tf.Session is deprecated. Please use tf.compat.v1.Session instead.\n",
      "\n",
      "WARNING:tensorflow:From /pub/home/kooeunho/GeonWoo/Rate_of_Return/Experiment5_1116/function.py:274: The name tf.global_variables_initializer is deprecated. Please use tf.compat.v1.global_variables_initializer instead.\n",
      "\n",
      "1\n",
      "2\n",
      "3\n",
      "4\n",
      "5\n",
      "6\n",
      "7\n",
      "8\n",
      "9\n",
      "10\n",
      "11\n",
      "12\n",
      "13\n",
      "14\n",
      "15\n",
      "16\n",
      "17\n",
      "18\n",
      "19\n",
      "20\n",
      "21\n",
      "22\n",
      "23\n",
      "24\n",
      "25\n",
      "26\n",
      "27\n",
      "28\n",
      "29\n",
      "30\n",
      "31\n",
      "32\n",
      "33\n",
      "34\n",
      "35\n",
      "36\n",
      "37\n",
      "38\n",
      "39\n",
      "40\n",
      "41\n",
      "42\n",
      "43\n",
      "44\n",
      "45\n",
      "46\n",
      "47\n",
      "48\n",
      "49\n"
     ]
    }
   ],
   "source": [
    "start_time = time.time()\n",
    "ratio      = 0.7\n",
    "hidden_dim = 5\n",
    "lr1, lr2   = 0.005, 0.0005\n",
    "batch_size = 512\n",
    "epochs     = 200\n",
    "us         = 2/10\n",
    "howmany    = 50\n",
    "depth      = 6\n",
    "extreme_ratio = 0.2\n",
    "\n",
    "results = []\n",
    "predicted_vectors = []\n",
    "for how in range(howmany):\n",
    "    print(how)   \n",
    "    trainX, trainY, testX, testY = fn.split_LSTM(data, depth, ratio)\n",
    "    pred = fn.RNN(trainX, trainY, testX, testY, depth, hidden_dim, lr1, lr2, batch_size, epochs, us)\n",
    "    pred[pred < 0] = 0\n",
    "    pred = pred*(Maximum - Minimum) + Minimum\n",
    "    predicted_vectors.append(pred)\n",
    "    real  = data[:,-1][-len(pred):]\n",
    "    rmse = fn.RMSE(real, pred)\n",
    "    cc   = fn.CC(real, pred)\n",
    "    area = fn.distribution(pred, real, 100)[-1]\n",
    "    extreme = fn.extreme(pred, real, extreme_ratio)\n",
    "    result = [rmse, cc, area, extreme]\n",
    "    results.append(result)\n",
    "end_time = time.time() "
   ]
  },
  {
   "cell_type": "code",
   "execution_count": 3,
   "metadata": {},
   "outputs": [
    {
     "name": "stdout",
     "output_type": "stream",
     "text": [
      "233.14770126342773\n",
      "(50, 4)\n"
     ]
    }
   ],
   "source": [
    "print(end_time - start_time)\n",
    "final = np.array(results)\n",
    "print(final.shape)\n",
    "np.savetxt('native_RNN.txt',final)\n",
    "np.savetxt('native_RNN_pred.txt', np.array(predicted_vectors))"
   ]
  },
  {
   "cell_type": "code",
   "execution_count": 4,
   "metadata": {},
   "outputs": [
    {
     "data": {
      "text/plain": [
       "array([[2.39144646e-04, 9.25439021e-01, 7.37791932e-01, 5.09674288e-04],\n",
       "       [2.82846149e-04, 8.97093098e-01, 6.98513800e-01, 6.08080871e-04],\n",
       "       [2.66308029e-04, 9.10451000e-01, 7.11252654e-01, 5.70044964e-04],\n",
       "       [3.10487658e-04, 8.77094896e-01, 6.73036093e-01, 6.70131671e-04],\n",
       "       [2.53543331e-04, 9.15302289e-01, 7.39915074e-01, 5.41891348e-04],\n",
       "       [3.39242896e-04, 8.59588575e-01, 6.30573248e-01, 7.38078741e-04],\n",
       "       [2.53482985e-04, 9.13665707e-01, 7.65392781e-01, 5.40083482e-04],\n",
       "       [2.63236762e-04, 9.10846397e-01, 7.04883227e-01, 5.62040608e-04],\n",
       "       [2.94378427e-04, 8.96618923e-01, 6.78343949e-01, 6.34537048e-04],\n",
       "       [2.55553033e-04, 9.13716660e-01, 7.38853503e-01, 5.46168036e-04],\n",
       "       [2.80950439e-04, 8.98532714e-01, 6.86836518e-01, 6.02777553e-04],\n",
       "       [2.95624785e-04, 8.91476013e-01, 6.52866242e-01, 6.37724690e-04],\n",
       "       [2.48009660e-04, 9.16289343e-01, 7.42038217e-01, 5.27818821e-04],\n",
       "       [3.29090827e-04, 8.75630976e-01, 6.46496815e-01, 7.16717749e-04],\n",
       "       [2.28753416e-04, 9.30903831e-01, 8.22717622e-01, 4.87765846e-04],\n",
       "       [2.38756276e-04, 9.23145883e-01, 7.85562633e-01, 5.07152105e-04],\n",
       "       [3.29145671e-04, 8.86067589e-01, 7.96178344e-01, 7.19006808e-04],\n",
       "       [3.43301015e-04, 8.69218592e-01, 6.49681529e-01, 7.51514643e-04],\n",
       "       [3.53913052e-04, 8.50856333e-01, 6.32696391e-01, 7.73823569e-04],\n",
       "       [3.23028870e-04, 8.70322434e-01, 6.70912951e-01, 7.01295596e-04],\n",
       "       [2.96017820e-04, 8.88412226e-01, 6.86836518e-01, 6.36506845e-04],\n",
       "       [2.96026512e-04, 8.94412183e-01, 6.68789809e-01, 6.39077735e-04],\n",
       "       [3.12678593e-04, 8.78952229e-01, 6.40127389e-01, 6.75229047e-04],\n",
       "       [2.42991943e-04, 9.19362759e-01, 7.14437367e-01, 5.15568826e-04],\n",
       "       [2.65365447e-04, 9.07703353e-01, 7.15498938e-01, 5.67836253e-04],\n",
       "       [3.30695924e-04, 8.66698695e-01, 6.31634820e-01, 7.17959329e-04],\n",
       "       [3.31706777e-04, 8.66855230e-01, 6.28450106e-01, 7.20296207e-04],\n",
       "       [2.61859017e-04, 9.11992241e-01, 7.23991507e-01, 5.59853498e-04],\n",
       "       [3.05258169e-04, 8.78163395e-01, 6.68789809e-01, 6.58914956e-04],\n",
       "       [2.51337694e-04, 9.18605656e-01, 7.48407643e-01, 5.37464316e-04],\n",
       "       [2.68421542e-04, 9.09220007e-01, 7.16560510e-01, 5.76271221e-04],\n",
       "       [3.04920831e-04, 8.82119898e-01, 6.82590234e-01, 6.59840457e-04],\n",
       "       [2.62340731e-04, 9.09840388e-01, 7.31422505e-01, 5.61289478e-04],\n",
       "       [2.87808250e-04, 9.00498907e-01, 6.83651805e-01, 6.19019710e-04],\n",
       "       [2.81048399e-04, 8.96340456e-01, 6.83651805e-01, 6.03644550e-04],\n",
       "       [2.96576037e-04, 8.85941020e-01, 6.70912951e-01, 6.37317325e-04],\n",
       "       [3.30820466e-04, 8.68404309e-01, 6.30573248e-01, 7.19060843e-04],\n",
       "       [2.66394349e-04, 9.10274688e-01, 7.05944798e-01, 5.69123405e-04],\n",
       "       [2.40179084e-04, 9.24064111e-01, 7.82377919e-01, 5.11290599e-04],\n",
       "       [2.40867536e-04, 9.23862000e-01, 7.54777070e-01, 5.11922998e-04],\n",
       "       [2.55558532e-04, 9.14870408e-01, 7.60084926e-01, 5.44362951e-04],\n",
       "       [2.87347235e-04, 8.94434339e-01, 6.77282378e-01, 6.17712581e-04],\n",
       "       [3.50131157e-04, 8.62603085e-01, 6.54989384e-01, 7.66584384e-04],\n",
       "       [2.58273284e-04, 9.11002611e-01, 7.08067941e-01, 5.50246150e-04],\n",
       "       [2.78860094e-04, 9.01657021e-01, 7.08067941e-01, 5.97486577e-04],\n",
       "       [3.47860785e-04, 8.55672762e-01, 6.42250531e-01, 7.59739848e-04],\n",
       "       [3.26284413e-04, 8.64672658e-01, 6.32696391e-01, 7.07018328e-04],\n",
       "       [2.46908955e-04, 9.18675562e-01, 7.18683652e-01, 5.23936508e-04],\n",
       "       [2.37834613e-04, 9.23113619e-01, 7.37791932e-01, 5.03795697e-04],\n",
       "       [3.08829867e-04, 8.78246786e-01, 6.47558386e-01, 6.66871568e-04]])"
      ]
     },
     "execution_count": 4,
     "metadata": {},
     "output_type": "execute_result"
    }
   ],
   "source": [
    "final"
   ]
  },
  {
   "cell_type": "code",
   "execution_count": null,
   "metadata": {},
   "outputs": [],
   "source": []
  },
  {
   "cell_type": "code",
   "execution_count": null,
   "metadata": {},
   "outputs": [],
   "source": []
  },
  {
   "cell_type": "code",
   "execution_count": null,
   "metadata": {},
   "outputs": [],
   "source": []
  },
  {
   "cell_type": "code",
   "execution_count": null,
   "metadata": {},
   "outputs": [],
   "source": []
  }
 ],
 "metadata": {
  "kernelspec": {
   "display_name": "Python 3",
   "language": "python",
   "name": "python3"
  },
  "language_info": {
   "codemirror_mode": {
    "name": "ipython",
    "version": 3
   },
   "file_extension": ".py",
   "mimetype": "text/x-python",
   "name": "python",
   "nbconvert_exporter": "python",
   "pygments_lexer": "ipython3",
   "version": "3.6.9"
  }
 },
 "nbformat": 4,
 "nbformat_minor": 4
}
