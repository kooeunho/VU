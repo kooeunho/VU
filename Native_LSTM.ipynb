{
 "cells": [
  {
   "cell_type": "code",
   "execution_count": 1,
   "metadata": {},
   "outputs": [
    {
     "name": "stderr",
     "output_type": "stream",
     "text": [
      "/home/kooeunho/.local/lib/python3.6/site-packages/tensorflow/python/framework/dtypes.py:516: FutureWarning: Passing (type, 1) or '1type' as a synonym of type is deprecated; in a future version of numpy, it will be understood as (type, (1,)) / '(1,)type'.\n",
      "  _np_qint8 = np.dtype([(\"qint8\", np.int8, 1)])\n",
      "/home/kooeunho/.local/lib/python3.6/site-packages/tensorflow/python/framework/dtypes.py:517: FutureWarning: Passing (type, 1) or '1type' as a synonym of type is deprecated; in a future version of numpy, it will be understood as (type, (1,)) / '(1,)type'.\n",
      "  _np_quint8 = np.dtype([(\"quint8\", np.uint8, 1)])\n",
      "/home/kooeunho/.local/lib/python3.6/site-packages/tensorflow/python/framework/dtypes.py:518: FutureWarning: Passing (type, 1) or '1type' as a synonym of type is deprecated; in a future version of numpy, it will be understood as (type, (1,)) / '(1,)type'.\n",
      "  _np_qint16 = np.dtype([(\"qint16\", np.int16, 1)])\n",
      "/home/kooeunho/.local/lib/python3.6/site-packages/tensorflow/python/framework/dtypes.py:519: FutureWarning: Passing (type, 1) or '1type' as a synonym of type is deprecated; in a future version of numpy, it will be understood as (type, (1,)) / '(1,)type'.\n",
      "  _np_quint16 = np.dtype([(\"quint16\", np.uint16, 1)])\n",
      "/home/kooeunho/.local/lib/python3.6/site-packages/tensorflow/python/framework/dtypes.py:520: FutureWarning: Passing (type, 1) or '1type' as a synonym of type is deprecated; in a future version of numpy, it will be understood as (type, (1,)) / '(1,)type'.\n",
      "  _np_qint32 = np.dtype([(\"qint32\", np.int32, 1)])\n",
      "/home/kooeunho/.local/lib/python3.6/site-packages/tensorflow/python/framework/dtypes.py:525: FutureWarning: Passing (type, 1) or '1type' as a synonym of type is deprecated; in a future version of numpy, it will be understood as (type, (1,)) / '(1,)type'.\n",
      "  np_resource = np.dtype([(\"resource\", np.ubyte, 1)])\n",
      "/home/kooeunho/.local/lib/python3.6/site-packages/tensorboard/compat/tensorflow_stub/dtypes.py:541: FutureWarning: Passing (type, 1) or '1type' as a synonym of type is deprecated; in a future version of numpy, it will be understood as (type, (1,)) / '(1,)type'.\n",
      "  _np_qint8 = np.dtype([(\"qint8\", np.int8, 1)])\n",
      "/home/kooeunho/.local/lib/python3.6/site-packages/tensorboard/compat/tensorflow_stub/dtypes.py:542: FutureWarning: Passing (type, 1) or '1type' as a synonym of type is deprecated; in a future version of numpy, it will be understood as (type, (1,)) / '(1,)type'.\n",
      "  _np_quint8 = np.dtype([(\"quint8\", np.uint8, 1)])\n",
      "/home/kooeunho/.local/lib/python3.6/site-packages/tensorboard/compat/tensorflow_stub/dtypes.py:543: FutureWarning: Passing (type, 1) or '1type' as a synonym of type is deprecated; in a future version of numpy, it will be understood as (type, (1,)) / '(1,)type'.\n",
      "  _np_qint16 = np.dtype([(\"qint16\", np.int16, 1)])\n",
      "/home/kooeunho/.local/lib/python3.6/site-packages/tensorboard/compat/tensorflow_stub/dtypes.py:544: FutureWarning: Passing (type, 1) or '1type' as a synonym of type is deprecated; in a future version of numpy, it will be understood as (type, (1,)) / '(1,)type'.\n",
      "  _np_quint16 = np.dtype([(\"quint16\", np.uint16, 1)])\n",
      "/home/kooeunho/.local/lib/python3.6/site-packages/tensorboard/compat/tensorflow_stub/dtypes.py:545: FutureWarning: Passing (type, 1) or '1type' as a synonym of type is deprecated; in a future version of numpy, it will be understood as (type, (1,)) / '(1,)type'.\n",
      "  _np_qint32 = np.dtype([(\"qint32\", np.int32, 1)])\n",
      "/home/kooeunho/.local/lib/python3.6/site-packages/tensorboard/compat/tensorflow_stub/dtypes.py:550: FutureWarning: Passing (type, 1) or '1type' as a synonym of type is deprecated; in a future version of numpy, it will be understood as (type, (1,)) / '(1,)type'.\n",
      "  np_resource = np.dtype([(\"resource\", np.ubyte, 1)])\n"
     ]
    },
    {
     "name": "stdout",
     "output_type": "stream",
     "text": [
      "(3145, 16)\n"
     ]
    }
   ],
   "source": [
    "import time\n",
    "import numpy as np\n",
    "import pylab as pl\n",
    "import tensorflow as tf\n",
    "import function as fn\n",
    "%matplotlib inline\n",
    "import os\n",
    "#os.environ[\"CUDA_VISIBLE_DEVICES\"] = '' # AMD Ryzen Threadripper 2990WX 32-Core (CPU)\n",
    "#os.environ[\"CUDA_VISIBLE_DEVICES\"] = '0' # NVIDIA TITAN V (GPU)\n",
    "\n",
    "os.environ[\"CUDA_VISIBLE_DEVICES\"] = '1' # NVIDIA TITAN RTX (GPU)\n",
    "config = tf.ConfigProto()\n",
    "config.gpu_options.allow_growth = True\n",
    "session = tf.Session( config=config )\n",
    "\n",
    "data = np.loadtxt('../vol.txt')[:,1:]\n",
    "Maximum, Minimum = np.max(data[:,-1]), np.min(data[:,-1])\n",
    "print(data.shape)"
   ]
  },
  {
   "cell_type": "code",
   "execution_count": 2,
   "metadata": {},
   "outputs": [
    {
     "name": "stdout",
     "output_type": "stream",
     "text": [
      "0\n",
      "WARNING:tensorflow:From /pub/home/kooeunho/GeonWoo/Rate_of_Return/Experiment5_1116/function.py:125: The name tf.reset_default_graph is deprecated. Please use tf.compat.v1.reset_default_graph instead.\n",
      "\n",
      "WARNING:tensorflow:From /pub/home/kooeunho/GeonWoo/Rate_of_Return/Experiment5_1116/function.py:135: The name tf.placeholder is deprecated. Please use tf.compat.v1.placeholder instead.\n",
      "\n",
      "WARNING:tensorflow:From /pub/home/kooeunho/GeonWoo/Rate_of_Return/Experiment5_1116/function.py:138: The name tf.random_uniform is deprecated. Please use tf.random.uniform instead.\n",
      "\n",
      "WARNING:tensorflow:From /pub/home/kooeunho/GeonWoo/Rate_of_Return/Experiment5_1116/function.py:168: The name tf.train.AdamOptimizer is deprecated. Please use tf.compat.v1.train.AdamOptimizer instead.\n",
      "\n",
      "WARNING:tensorflow:From /pub/home/kooeunho/GeonWoo/Rate_of_Return/Experiment5_1116/function.py:173: The name tf.Session is deprecated. Please use tf.compat.v1.Session instead.\n",
      "\n",
      "WARNING:tensorflow:From /pub/home/kooeunho/GeonWoo/Rate_of_Return/Experiment5_1116/function.py:174: The name tf.global_variables_initializer is deprecated. Please use tf.compat.v1.global_variables_initializer instead.\n",
      "\n",
      "1\n",
      "2\n",
      "3\n",
      "4\n",
      "5\n",
      "6\n",
      "7\n",
      "8\n",
      "9\n",
      "10\n",
      "11\n",
      "12\n",
      "13\n",
      "14\n",
      "15\n",
      "16\n",
      "17\n",
      "18\n",
      "19\n",
      "20\n",
      "21\n",
      "22\n",
      "23\n",
      "24\n",
      "25\n",
      "26\n",
      "27\n",
      "28\n",
      "29\n",
      "30\n",
      "31\n",
      "32\n",
      "33\n",
      "34\n",
      "35\n",
      "36\n",
      "37\n",
      "38\n",
      "39\n",
      "40\n",
      "41\n",
      "42\n",
      "43\n",
      "44\n",
      "45\n",
      "46\n",
      "47\n",
      "48\n",
      "49\n"
     ]
    }
   ],
   "source": [
    "start_time = time.time()\n",
    "ratio      = 0.7\n",
    "hidden_dim = 4\n",
    "lr1, lr2   = 0.005, 0.0005\n",
    "batch_size = 512\n",
    "epochs     = 200\n",
    "us         = 2/10\n",
    "howmany    = 50\n",
    "depth      = 10\n",
    "extreme_ratio = 0.2\n",
    "\n",
    "results = []\n",
    "predicted_vectors = []\n",
    "for how in range(howmany):\n",
    "    print(how)\n",
    "    \n",
    "    trainX, trainY, testX, testY = fn.split_LSTM(data, depth, ratio)\n",
    "    pred = fn.LSTM(trainX, trainY, testX, testY, depth, hidden_dim, lr1, lr2, batch_size, epochs, us)\n",
    "    pred[pred < 0] = 0\n",
    "    pred = pred*(Maximum - Minimum) + Minimum\n",
    "    predicted_vectors.append(pred)\n",
    "    real  = data[:,-1][-len(pred):]\n",
    "    rmse = fn.RMSE(real, pred)\n",
    "    cc   = fn.CC(real, pred)\n",
    "    area = fn.distribution(pred, real, 100)[-1]\n",
    "    extreme = fn.extreme(pred, real, extreme_ratio)\n",
    "    result = [rmse, cc, area, extreme]\n",
    "    results.append(result)\n",
    "end_time = time.time() "
   ]
  },
  {
   "cell_type": "code",
   "execution_count": 3,
   "metadata": {},
   "outputs": [
    {
     "name": "stdout",
     "output_type": "stream",
     "text": [
      "570.268862247467\n",
      "(50, 4)\n"
     ]
    }
   ],
   "source": [
    "print(end_time - start_time)\n",
    "final = np.array(results)\n",
    "print(final.shape)\n",
    "np.savetxt('native_LSTM.txt',final)\n",
    "np.savetxt('native_LSTM_pred.txt', np.array(predicted_vectors))"
   ]
  },
  {
   "cell_type": "code",
   "execution_count": 4,
   "metadata": {},
   "outputs": [
    {
     "data": {
      "text/plain": [
       "array([[2.23501567e-04, 9.39577707e-01, 8.56535600e-01, 4.81345151e-04],\n",
       "       [2.58642237e-04, 9.40020998e-01, 8.69287991e-01, 5.62271302e-04],\n",
       "       [2.38793669e-04, 9.41856690e-01, 8.50159405e-01, 5.09762828e-04],\n",
       "       [2.17025660e-04, 9.47165252e-01, 8.60786397e-01, 4.66805099e-04],\n",
       "       [2.66050217e-04, 8.92792826e-01, 8.76726886e-01, 5.83227829e-04],\n",
       "       [1.99313349e-04, 9.52213525e-01, 8.54410202e-01, 4.25575143e-04],\n",
       "       [2.16347414e-04, 9.48946464e-01, 8.53347503e-01, 4.65336035e-04],\n",
       "       [2.12575041e-04, 9.44110604e-01, 8.65037194e-01, 4.54996483e-04],\n",
       "       [2.41337270e-04, 9.45513708e-01, 8.54410202e-01, 5.22283674e-04],\n",
       "       [1.92582941e-04, 9.63444236e-01, 8.67162593e-01, 4.11249021e-04],\n",
       "       [2.04362944e-04, 9.45678582e-01, 8.80977683e-01, 4.38331937e-04],\n",
       "       [2.23925825e-04, 9.40544707e-01, 8.60786397e-01, 4.82709409e-04],\n",
       "       [2.40833171e-04, 9.41335438e-01, 8.66099894e-01, 5.23661042e-04],\n",
       "       [2.33718067e-04, 9.44146246e-01, 8.75664187e-01, 5.05159131e-04],\n",
       "       [2.05236981e-04, 9.48408343e-01, 8.73538789e-01, 4.36609000e-04],\n",
       "       [2.15924071e-04, 9.50282180e-01, 8.75664187e-01, 4.65705524e-04],\n",
       "       [2.48093181e-04, 9.53438683e-01, 8.57598300e-01, 5.37135524e-04],\n",
       "       [2.30849463e-04, 9.30974280e-01, 8.67162593e-01, 5.01211413e-04],\n",
       "       [2.63750442e-04, 9.41448964e-01, 8.72476089e-01, 5.75219247e-04],\n",
       "       [2.42997398e-04, 9.29041554e-01, 8.72476089e-01, 5.23385184e-04],\n",
       "       [2.37826524e-04, 9.15728625e-01, 9.04357067e-01, 5.17030910e-04],\n",
       "       [2.28275982e-04, 9.48178941e-01, 8.72476089e-01, 4.94280984e-04],\n",
       "       [2.36051541e-04, 9.39497723e-01, 8.55472901e-01, 5.09780109e-04],\n",
       "       [2.52671505e-04, 9.34685757e-01, 8.57598300e-01, 5.53790668e-04],\n",
       "       [2.28878824e-04, 9.22782911e-01, 8.75664187e-01, 5.00708121e-04],\n",
       "       [2.69256328e-04, 9.38186900e-01, 8.78852285e-01, 5.89360235e-04],\n",
       "       [1.91275604e-04, 9.57088394e-01, 8.76726886e-01, 4.05926914e-04],\n",
       "       [2.20711866e-04, 9.49856536e-01, 8.58660999e-01, 4.70817221e-04],\n",
       "       [2.17011935e-04, 9.43101007e-01, 8.80977683e-01, 4.69968351e-04],\n",
       "       [1.95374567e-04, 9.43828363e-01, 8.68225292e-01, 4.20109774e-04],\n",
       "       [2.30606205e-04, 9.23094467e-01, 8.52284803e-01, 4.90807366e-04],\n",
       "       [2.25079131e-04, 9.35560363e-01, 8.92667375e-01, 4.83377083e-04],\n",
       "       [2.35838054e-04, 9.47620854e-01, 8.79914984e-01, 5.15028643e-04],\n",
       "       [2.63581108e-04, 9.26912355e-01, 8.40595112e-01, 5.71395942e-04],\n",
       "       [2.18887256e-04, 9.44918170e-01, 8.45908608e-01, 4.68057893e-04],\n",
       "       [1.83099546e-04, 9.52229858e-01, 8.70350691e-01, 3.85449131e-04],\n",
       "       [2.19867948e-04, 9.49704282e-01, 8.57598300e-01, 4.71142454e-04],\n",
       "       [2.38327882e-04, 9.15975923e-01, 8.84165781e-01, 5.20482344e-04],\n",
       "       [2.25577046e-04, 9.50314587e-01, 8.82040383e-01, 4.91068225e-04],\n",
       "       [2.86291015e-04, 9.26432538e-01, 8.74601488e-01, 6.28653159e-04],\n",
       "       [2.50635010e-04, 9.47845381e-01, 8.73538789e-01, 5.46325183e-04],\n",
       "       [2.13559417e-04, 9.42395970e-01, 8.57598300e-01, 4.58507618e-04],\n",
       "       [1.99844319e-04, 9.59204661e-01, 8.80977683e-01, 4.29066398e-04],\n",
       "       [1.96130420e-04, 9.48762178e-01, 8.56535600e-01, 4.15230469e-04],\n",
       "       [2.48654212e-04, 9.38544631e-01, 8.99043571e-01, 5.45407145e-04],\n",
       "       [2.78776219e-04, 9.32611538e-01, 8.52284803e-01, 6.10573162e-04],\n",
       "       [2.36623274e-04, 9.49280010e-01, 8.60786397e-01, 5.10621141e-04],\n",
       "       [2.63288968e-04, 9.42990000e-01, 8.80977683e-01, 5.72862008e-04],\n",
       "       [2.40010907e-04, 9.48880154e-01, 8.65037194e-01, 5.21148224e-04],\n",
       "       [2.75869945e-04, 9.38583166e-01, 8.76726886e-01, 6.04205212e-04]])"
      ]
     },
     "execution_count": 4,
     "metadata": {},
     "output_type": "execute_result"
    }
   ],
   "source": [
    "final"
   ]
  },
  {
   "cell_type": "code",
   "execution_count": null,
   "metadata": {},
   "outputs": [],
   "source": []
  },
  {
   "cell_type": "code",
   "execution_count": null,
   "metadata": {},
   "outputs": [],
   "source": []
  },
  {
   "cell_type": "code",
   "execution_count": null,
   "metadata": {},
   "outputs": [],
   "source": []
  },
  {
   "cell_type": "code",
   "execution_count": null,
   "metadata": {},
   "outputs": [],
   "source": []
  },
  {
   "cell_type": "code",
   "execution_count": null,
   "metadata": {},
   "outputs": [],
   "source": []
  },
  {
   "cell_type": "code",
   "execution_count": null,
   "metadata": {},
   "outputs": [],
   "source": []
  }
 ],
 "metadata": {
  "kernelspec": {
   "display_name": "Python 3",
   "language": "python",
   "name": "python3"
  },
  "language_info": {
   "codemirror_mode": {
    "name": "ipython",
    "version": 3
   },
   "file_extension": ".py",
   "mimetype": "text/x-python",
   "name": "python",
   "nbconvert_exporter": "python",
   "pygments_lexer": "ipython3",
   "version": "3.6.9"
  }
 },
 "nbformat": 4,
 "nbformat_minor": 4
}
