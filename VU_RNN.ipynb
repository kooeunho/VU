{
 "cells": [
  {
   "cell_type": "code",
   "execution_count": 1,
   "metadata": {},
   "outputs": [
    {
     "name": "stderr",
     "output_type": "stream",
     "text": [
      "/home/kooeunho/.local/lib/python3.6/site-packages/tensorflow/python/framework/dtypes.py:516: FutureWarning: Passing (type, 1) or '1type' as a synonym of type is deprecated; in a future version of numpy, it will be understood as (type, (1,)) / '(1,)type'.\n",
      "  _np_qint8 = np.dtype([(\"qint8\", np.int8, 1)])\n",
      "/home/kooeunho/.local/lib/python3.6/site-packages/tensorflow/python/framework/dtypes.py:517: FutureWarning: Passing (type, 1) or '1type' as a synonym of type is deprecated; in a future version of numpy, it will be understood as (type, (1,)) / '(1,)type'.\n",
      "  _np_quint8 = np.dtype([(\"quint8\", np.uint8, 1)])\n",
      "/home/kooeunho/.local/lib/python3.6/site-packages/tensorflow/python/framework/dtypes.py:518: FutureWarning: Passing (type, 1) or '1type' as a synonym of type is deprecated; in a future version of numpy, it will be understood as (type, (1,)) / '(1,)type'.\n",
      "  _np_qint16 = np.dtype([(\"qint16\", np.int16, 1)])\n",
      "/home/kooeunho/.local/lib/python3.6/site-packages/tensorflow/python/framework/dtypes.py:519: FutureWarning: Passing (type, 1) or '1type' as a synonym of type is deprecated; in a future version of numpy, it will be understood as (type, (1,)) / '(1,)type'.\n",
      "  _np_quint16 = np.dtype([(\"quint16\", np.uint16, 1)])\n",
      "/home/kooeunho/.local/lib/python3.6/site-packages/tensorflow/python/framework/dtypes.py:520: FutureWarning: Passing (type, 1) or '1type' as a synonym of type is deprecated; in a future version of numpy, it will be understood as (type, (1,)) / '(1,)type'.\n",
      "  _np_qint32 = np.dtype([(\"qint32\", np.int32, 1)])\n",
      "/home/kooeunho/.local/lib/python3.6/site-packages/tensorflow/python/framework/dtypes.py:525: FutureWarning: Passing (type, 1) or '1type' as a synonym of type is deprecated; in a future version of numpy, it will be understood as (type, (1,)) / '(1,)type'.\n",
      "  np_resource = np.dtype([(\"resource\", np.ubyte, 1)])\n",
      "/home/kooeunho/.local/lib/python3.6/site-packages/tensorboard/compat/tensorflow_stub/dtypes.py:541: FutureWarning: Passing (type, 1) or '1type' as a synonym of type is deprecated; in a future version of numpy, it will be understood as (type, (1,)) / '(1,)type'.\n",
      "  _np_qint8 = np.dtype([(\"qint8\", np.int8, 1)])\n",
      "/home/kooeunho/.local/lib/python3.6/site-packages/tensorboard/compat/tensorflow_stub/dtypes.py:542: FutureWarning: Passing (type, 1) or '1type' as a synonym of type is deprecated; in a future version of numpy, it will be understood as (type, (1,)) / '(1,)type'.\n",
      "  _np_quint8 = np.dtype([(\"quint8\", np.uint8, 1)])\n",
      "/home/kooeunho/.local/lib/python3.6/site-packages/tensorboard/compat/tensorflow_stub/dtypes.py:543: FutureWarning: Passing (type, 1) or '1type' as a synonym of type is deprecated; in a future version of numpy, it will be understood as (type, (1,)) / '(1,)type'.\n",
      "  _np_qint16 = np.dtype([(\"qint16\", np.int16, 1)])\n",
      "/home/kooeunho/.local/lib/python3.6/site-packages/tensorboard/compat/tensorflow_stub/dtypes.py:544: FutureWarning: Passing (type, 1) or '1type' as a synonym of type is deprecated; in a future version of numpy, it will be understood as (type, (1,)) / '(1,)type'.\n",
      "  _np_quint16 = np.dtype([(\"quint16\", np.uint16, 1)])\n",
      "/home/kooeunho/.local/lib/python3.6/site-packages/tensorboard/compat/tensorflow_stub/dtypes.py:545: FutureWarning: Passing (type, 1) or '1type' as a synonym of type is deprecated; in a future version of numpy, it will be understood as (type, (1,)) / '(1,)type'.\n",
      "  _np_qint32 = np.dtype([(\"qint32\", np.int32, 1)])\n",
      "/home/kooeunho/.local/lib/python3.6/site-packages/tensorboard/compat/tensorflow_stub/dtypes.py:550: FutureWarning: Passing (type, 1) or '1type' as a synonym of type is deprecated; in a future version of numpy, it will be understood as (type, (1,)) / '(1,)type'.\n",
      "  np_resource = np.dtype([(\"resource\", np.ubyte, 1)])\n"
     ]
    },
    {
     "name": "stdout",
     "output_type": "stream",
     "text": [
      "(3145, 16)\n"
     ]
    }
   ],
   "source": [
    "import time\n",
    "import numpy as np\n",
    "import pylab as pl\n",
    "import tensorflow as tf\n",
    "import function as fn\n",
    "%matplotlib inline\n",
    "import os\n",
    "#os.environ[\"CUDA_VISIBLE_DEVICES\"] = '' # AMD Ryzen Threadripper 2990WX 32-Core (CPU)\n",
    "#os.environ[\"CUDA_VISIBLE_DEVICES\"] = '0' # NVIDIA TITAN V (GPU)\n",
    "\n",
    "os.environ[\"CUDA_VISIBLE_DEVICES\"] = '1' # NVIDIA TITAN RTX (GPU)\n",
    "config = tf.ConfigProto()\n",
    "config.gpu_options.allow_growth = True\n",
    "session = tf.Session( config=config )\n",
    "\n",
    "data = np.loadtxt('../vol.txt')[:,1:]\n",
    "Maximum, Minimum = np.max(data[:,-1]), np.min(data[:,-1])\n",
    "print(data.shape)"
   ]
  },
  {
   "cell_type": "code",
   "execution_count": 2,
   "metadata": {},
   "outputs": [
    {
     "name": "stdout",
     "output_type": "stream",
     "text": [
      "0\n",
      "WARNING:tensorflow:From /pub/home/kooeunho/GeonWoo/Rate_of_Return/Experiment5_1116/function.py:238: The name tf.reset_default_graph is deprecated. Please use tf.compat.v1.reset_default_graph instead.\n",
      "\n",
      "WARNING:tensorflow:From /pub/home/kooeunho/GeonWoo/Rate_of_Return/Experiment5_1116/function.py:248: The name tf.placeholder is deprecated. Please use tf.compat.v1.placeholder instead.\n",
      "\n",
      "WARNING:tensorflow:From /pub/home/kooeunho/GeonWoo/Rate_of_Return/Experiment5_1116/function.py:251: The name tf.random_uniform is deprecated. Please use tf.random.uniform instead.\n",
      "\n",
      "WARNING:tensorflow:From /pub/home/kooeunho/GeonWoo/Rate_of_Return/Experiment5_1116/function.py:268: The name tf.train.AdamOptimizer is deprecated. Please use tf.compat.v1.train.AdamOptimizer instead.\n",
      "\n",
      "WARNING:tensorflow:From /pub/home/kooeunho/GeonWoo/Rate_of_Return/Experiment5_1116/function.py:273: The name tf.Session is deprecated. Please use tf.compat.v1.Session instead.\n",
      "\n",
      "WARNING:tensorflow:From /pub/home/kooeunho/GeonWoo/Rate_of_Return/Experiment5_1116/function.py:274: The name tf.global_variables_initializer is deprecated. Please use tf.compat.v1.global_variables_initializer instead.\n",
      "\n",
      "1\n",
      "2\n",
      "3\n",
      "4\n",
      "5\n",
      "6\n",
      "7\n",
      "8\n",
      "9\n",
      "10\n",
      "11\n",
      "12\n",
      "13\n",
      "14\n",
      "15\n",
      "16\n",
      "17\n",
      "18\n",
      "19\n",
      "20\n",
      "21\n",
      "22\n",
      "23\n",
      "24\n",
      "25\n",
      "26\n",
      "27\n",
      "28\n",
      "29\n",
      "30\n",
      "31\n",
      "32\n",
      "33\n",
      "34\n",
      "35\n",
      "36\n",
      "37\n",
      "38\n",
      "39\n",
      "40\n",
      "41\n",
      "42\n",
      "43\n",
      "44\n",
      "45\n",
      "46\n",
      "47\n",
      "48\n",
      "49\n"
     ]
    }
   ],
   "source": [
    "start_time = time.time()\n",
    "ratio      = 0.7\n",
    "hidden_dim = 5\n",
    "lr1, lr2   = 0.005, 0.0005\n",
    "batch_size = 512\n",
    "epochs     = 200\n",
    "us         = 2/10\n",
    "howmany    = 50\n",
    "depth      = 6\n",
    "extreme_ratio = 0.2\n",
    "\n",
    "results = []\n",
    "predicted_vectors = []\n",
    "for how in range(howmany):\n",
    "    print(how)\n",
    "    for factor in [1/10*i for i in range(1,10)]:\n",
    "        trainX, trainY, testX, testY = fn.split_LSTM2(data, depth, ratio, factor)\n",
    "        pred = fn.RNN(trainX, trainY, testX, testY, depth, hidden_dim, lr1, lr2, batch_size, epochs, us)\n",
    "        pred[pred < 0] = 0\n",
    "        pred = (pred**(1/factor))*(Maximum - Minimum) + Minimum\n",
    "        predicted_vectors.append(pred)\n",
    "        real  = data[:,-1][-len(pred):]\n",
    "        rmse = fn.RMSE(real, pred)\n",
    "        cc   = fn.CC(real, pred)\n",
    "        area = fn.distribution(pred, real, 100)[-1]\n",
    "        extreme = fn.extreme(pred, real, extreme_ratio)\n",
    "        result = [factor, rmse, cc, area, extreme]\n",
    "        results.append(result)\n",
    "end_time = time.time() "
   ]
  },
  {
   "cell_type": "code",
   "execution_count": 3,
   "metadata": {},
   "outputs": [
    {
     "name": "stdout",
     "output_type": "stream",
     "text": [
      "1929.5503180027008\n",
      "(450, 5)\n"
     ]
    }
   ],
   "source": [
    "print(end_time - start_time)\n",
    "final = np.array(results)\n",
    "print(final.shape)\n",
    "np.savetxt('root_RNN.txt',final)\n",
    "np.savetxt('root_RNN_pred.txt', np.array(predicted_vectors))"
   ]
  },
  {
   "cell_type": "code",
   "execution_count": 4,
   "metadata": {},
   "outputs": [
    {
     "data": {
      "text/plain": [
       "array([[1.00000000e-01, 5.61214423e-04, 9.54592429e-01, 7.33545648e-01,\n",
       "        1.24955872e-03],\n",
       "       [2.00000000e-01, 4.59909313e-04, 9.15556727e-01, 8.43949045e-01,\n",
       "        1.02391119e-03],\n",
       "       [3.00000000e-01, 3.34601466e-04, 9.31863535e-01, 9.00212314e-01,\n",
       "        7.41741514e-04],\n",
       "       ...,\n",
       "       [7.00000000e-01, 2.86346305e-04, 9.11033305e-01, 8.87473461e-01,\n",
       "        6.25114316e-04],\n",
       "       [8.00000000e-01, 2.79055333e-04, 9.10653292e-01, 8.78980892e-01,\n",
       "        6.06724015e-04],\n",
       "       [9.00000000e-01, 3.28051433e-04, 8.76744397e-01, 7.23991507e-01,\n",
       "        7.15787275e-04]])"
      ]
     },
     "execution_count": 4,
     "metadata": {},
     "output_type": "execute_result"
    }
   ],
   "source": [
    "final"
   ]
  },
  {
   "cell_type": "code",
   "execution_count": null,
   "metadata": {},
   "outputs": [],
   "source": []
  },
  {
   "cell_type": "code",
   "execution_count": null,
   "metadata": {},
   "outputs": [],
   "source": []
  },
  {
   "cell_type": "code",
   "execution_count": null,
   "metadata": {},
   "outputs": [],
   "source": []
  }
 ],
 "metadata": {
  "kernelspec": {
   "display_name": "Python 3",
   "language": "python",
   "name": "python3"
  },
  "language_info": {
   "codemirror_mode": {
    "name": "ipython",
    "version": 3
   },
   "file_extension": ".py",
   "mimetype": "text/x-python",
   "name": "python",
   "nbconvert_exporter": "python",
   "pygments_lexer": "ipython3",
   "version": "3.6.9"
  }
 },
 "nbformat": 4,
 "nbformat_minor": 4
}
